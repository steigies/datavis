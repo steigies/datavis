{
 "cells": [
  {
   "cell_type": "markdown",
   "id": "6388682c",
   "metadata": {},
   "source": [
    "# Colourblindness\n",
    "Approximately 1 in 12 men and 1 in 200 women have some kind of \n",
    "[colour deficiency](https://www.color-blindness.com/).\n",
    "It is not easy for a non-colour-blind person to imagine how colours are perceived by a\n",
    "colour-blind person.\n",
    "Several tools have been created that emulate the different kinds of colour deficiency,\n",
    "they allow to upload images and visualise them as perceived by different types and intensities of colour blindness.\n",
    "The [hclwizard](http://hclwizard.org) emulator allows to vary the severity of colour deficiency.\n",
    "The [Color Blindness Simulator](https://www.color-blindness.com/coblis-color-blindness-simulator/)\n",
    "can simulate eight types of colour blindness.\n",
    "\n",
    "We will use the figures that we have created in the previous sessions (line plots, matrix plots)\n",
    " and use the emulators to estimate how the different colourmaps work with the various calour deficiencies."
   ]
  },
  {
   "cell_type": "code",
   "execution_count": null,
   "id": "8525b5c4",
   "metadata": {},
   "outputs": [],
   "source": [
    "# instead of plt.show() save the figure to a file with:\n",
    "plt.savefig('foo.png')"
   ]
  }
 ],
 "metadata": {
  "kernelspec": {
   "display_name": "Python 3 (ipykernel)",
   "language": "python",
   "name": "python3"
  },
  "language_info": {
   "codemirror_mode": {
    "name": "ipython",
    "version": 3
   },
   "file_extension": ".py",
   "mimetype": "text/x-python",
   "name": "python",
   "nbconvert_exporter": "python",
   "pygments_lexer": "ipython3",
   "version": "3.11.2"
  }
 },
 "nbformat": 4,
 "nbformat_minor": 5
}
