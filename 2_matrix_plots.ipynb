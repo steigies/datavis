{
 "cells": [
  {
   "cell_type": "markdown",
   "id": "1bf0e154",
   "metadata": {},
   "source": [
    "# Visualising Data: matrix plots\n",
    "[OTSO](https://github.com/NLarsen15/OTSO), the Open-Source Geomagnetosphere Propagation Tool, can calculate cutoff rigidities for all locations on Earth. With cutoff rigidities calculated in a 1° x 1° grid, this data can be visualised in a world map.\n",
    "\n",
    "As these calculations need a significant amount of time, cutoff rigidities for the epochs 2000, 2005, ..., 2025\n",
    "have been calculated with [Planet.py](https://github.com/NLarsen15/OTSO/blob/main/OTSO/Tool/Planet.py) \n",
    "and made available on [zenodo](https://zenodo.org/records/11580448).\n",
    "Download `cutoff_2000.zip` and unpack it into the current directory.\n",
    "\n",
    "We use this data and the Plotting Tool [PlanetPlot.py](https://github.com/NLarsen15/OTSO/blob/main/OTSO/Plotting%20Tools/PlanetPlot.py) provided by OTSO to visualise the data."
   ]
  },
  {
   "cell_type": "code",
   "execution_count": null,
   "id": "8e9d9161",
   "metadata": {},
   "outputs": [],
   "source": [
    "import numpy as np\n",
    "import pandas as pd\n",
    "import sys\n",
    "import matplotlib.pyplot as plt\n",
    "from mpl_toolkits.mplot3d import Axes3D\n",
    "import cartopy.crs as ccrs # python3-cartopy\n",
    "from cartopy.feature.nightshade import Nightshade\n",
    "from cartopy.mpl.gridliner import LONGITUDE_FORMATTER, LATITUDE_FORMATTER\n",
    "\n",
    "year=2025\n",
    "\n",
    "Planet = pd.read_csv(\"cutoff/Planet/\" +str(year) + \"/Planet.csv\")\n",
    "PlanetLat = Planet[\"Latitude\"]\n",
    "PlanetLong = Planet[\"Longitude\"]\n",
    "PlanetR = Planet[\"Rc\"]\n",
    "\n",
    "PlanetLat = np.array([PlanetLat])\n",
    "PlanetLong = np.array([PlanetLong])\n",
    "PlanetR = np.array([PlanetR])\n",
    "\n",
    "PlanetLat = np.ndarray.flatten(PlanetLat)\n",
    "PlanetLong = np.ndarray.flatten(PlanetLong)\n",
    "PlanetR = np.ndarray.flatten(PlanetR)\n",
    "\n",
    "##############################################################\n",
    "\n",
    "fig = plt.figure(figsize=(12,9))\n",
    "\n",
    "ax = fig.add_subplot(1, 1, 1, projection=ccrs.PlateCarree())\n",
    "ax.set_global()\n",
    "gl = ax.gridlines(crs=ccrs.PlateCarree(), linewidth=1, color='black', alpha=0.5, linestyle='-', draw_labels=False)\n",
    "ax.coastlines()\n",
    "#ax.add_feature(Nightshade(Date, alpha=0.2))\n",
    "ax.set_extent([-180, 180, -90, 90]) \n",
    "ax.set_xticks([-180,-150,-120,-90,-60,-30,0,30,60,90,120,150,180])\n",
    "ax.set_yticks([-90,-60,-30,0,30,60,90])\n",
    "\n",
    "PlanetDf = pd.DataFrame({'x':PlanetLong, 'y':PlanetLat, 'z':PlanetR})\n",
    "Z = PlanetDf.pivot_table(index='x', columns='y', values='z').T.values\n",
    "X_unique = np.sort(PlanetDf.x.unique())\n",
    "Y_unique = np.sort(PlanetDf.y.unique())\n",
    "X, Y = np.meshgrid(X_unique, Y_unique)\n",
    "\n",
    "colormap='jet'\n",
    "levels=20\n",
    "\n",
    "plt.contourf(X, Y, Z, np.linspace(0.0, 20.0, levels+1), cmap=colormap, transform=ccrs.PlateCarree(), extend=\"both\")\n",
    "plt.title('Planetary Vertical Rigidity Cutoff for '+ str(year), fontsize=15)\n",
    "plt.colorbar(ticks=range(0,20+1,5), label='Cutoff Rigidity GV')\n",
    "plt.show()\n"
   ]
  },
  {
   "cell_type": "markdown",
   "id": "1a6acd75",
   "metadata": {},
   "source": [
    "## Colourmaps\n",
    "- Is the jet colourmap a good colourmap?\n",
    "- If there were no colourbar, where are the most significant values? Where are the largest changes in value?\n",
    "- How would the figure look if it was printed in B/W?\n",
    "- What would a colour blind person see?\n",
    "- Plot the data using a perceptually uniform sequential colourmap\n",
    "\n",
    "### Links\n",
    "- [color maps](https://matplotlib.org/stable/users/explain/colors/colormaps.html)\n",
    "- [end of the rainbow](https://www.climate-lab-book.ac.uk/2014/end-of-the-rainbow/)\n",
    "- https://www.fabiocrameri.ch/colourmaps/\n",
    "- https://www.fabiocrameri.ch/endrainbow/\n",
    "- https://hclwizard.org/\n",
    "- https://www.color-blindness.com/\n"
   ]
  },
  {
   "cell_type": "code",
   "execution_count": null,
   "id": "f6e9e916",
   "metadata": {},
   "outputs": [],
   "source": []
  }
 ],
 "metadata": {
  "kernelspec": {
   "display_name": "Python 3 (ipykernel)",
   "language": "python",
   "name": "python3"
  },
  "language_info": {
   "codemirror_mode": {
    "name": "ipython",
    "version": 3
   },
   "file_extension": ".py",
   "mimetype": "text/x-python",
   "name": "python",
   "nbconvert_exporter": "python",
   "pygments_lexer": "ipython3",
   "version": "3.11.2"
  }
 },
 "nbformat": 4,
 "nbformat_minor": 5
}
