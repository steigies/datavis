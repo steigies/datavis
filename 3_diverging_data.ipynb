{
 "cells": [
  {
   "cell_type": "markdown",
   "id": "bcbb879b",
   "metadata": {},
   "source": [
    "# Diverging data\n",
    "We want to study the change in cutoff rigidities, using the OTSO data.\n",
    "- Write a function that reads in the data for a given year.\n",
    "- Read in the (X, Y, Z) values for two years, for example 2000 and 2025.\n",
    "- Calculate the difference between the Z values and plot them on a map.\n",
    "- Find a suitable range for the Z-axis.\n",
    "- Find a colormap that is suitable for plot this diverging data."
   ]
  },
  {
   "cell_type": "code",
   "execution_count": null,
   "id": "9411e6ca",
   "metadata": {},
   "outputs": [],
   "source": [
    "import numpy as np\n",
    "import matplotlib.pyplot as plt\n",
    "from tools import cutoff\n",
    "\n",
    "(X1, Y1, Z1) = cutoff(2000)\n",
    "(X2, Y2, Z2) = cutoff(2025)\n",
    "\n",
    "X = X1\n",
    "Y = Y1\n",
    "Z = Z2 - Z1\n"
   ]
  },
  {
   "cell_type": "code",
   "execution_count": null,
   "id": "0200efd8",
   "metadata": {},
   "outputs": [],
   "source": [
    "Z.max(), Z.min()"
   ]
  },
  {
   "cell_type": "code",
   "execution_count": null,
   "id": "cfdf1a79",
   "metadata": {},
   "outputs": [],
   "source": [
    "from mpl_toolkits.mplot3d import Axes3D\n",
    "import cartopy.crs as ccrs # python3-cartopy\n",
    "from cartopy.mpl.gridliner import LONGITUDE_FORMATTER, LATITUDE_FORMATTER\n",
    "\n",
    "fig = plt.figure(figsize=(12,9))\n",
    "\n",
    "ax = fig.add_subplot(1, 1, 1, projection=ccrs.PlateCarree())\n",
    "ax.set_global()\n",
    "gl = ax.gridlines(crs=ccrs.PlateCarree(), linewidth=1, color='black', alpha=0.5, linestyle='-', draw_labels=False)\n",
    "ax.coastlines()\n",
    "ax.set_extent([-180, 180, -90, 90]) \n",
    "ax.set_xticks([-180,-150,-120,-90,-60,-30,0,30,60,90,120,150,180])\n",
    "ax.set_yticks([-90,-60,-30,0,30,60,90])\n",
    "\n",
    "colormap='jet'\n",
    "colormap='bwr'\n",
    "colormap='seismic'\n",
    "r_change=3 # this should be an integer\n",
    "levels=int(2*10*r_change) # 10 steps each per GV in positive and negative direction\n",
    "\n",
    "plt.contourf(X, Y, Z, np.linspace(-r_change, r_change, levels+1), cmap=colormap, transform=ccrs.PlateCarree(), extend=\"both\")\n",
    "plt.title('Planetary Vertical Rigidity Cutoff change from 2000-2025', fontsize=15)\n",
    "plt.colorbar(ticks=range(-r_change,r_change+1,1), label='Cutoff Rigidity GV')\n",
    "\n",
    "plt.show()\n"
   ]
  },
  {
   "cell_type": "code",
   "execution_count": null,
   "id": "ee857436",
   "metadata": {},
   "outputs": [],
   "source": []
  }
 ],
 "metadata": {
  "kernelspec": {
   "display_name": "Python 3 (ipykernel)",
   "language": "python",
   "name": "python3"
  },
  "language_info": {
   "codemirror_mode": {
    "name": "ipython",
    "version": 3
   },
   "file_extension": ".py",
   "mimetype": "text/x-python",
   "name": "python",
   "nbconvert_exporter": "python",
   "pygments_lexer": "ipython3",
   "version": "3.11.2"
  }
 },
 "nbformat": 4,
 "nbformat_minor": 5
}
