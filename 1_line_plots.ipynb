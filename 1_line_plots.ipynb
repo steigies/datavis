{
 "cells": [
  {
   "cell_type": "markdown",
   "id": "9a59b1ea",
   "metadata": {},
   "source": [
    "# Visualising Data: line plots\n",
    "In visualising data, data values are mapped systematically into a graphic. Data can be represented using different colours, shapes, lines and sizes. Variables holding numerical (quantitative) data are *factors*. Categorical (qualitative) data has different *levels*. The levels of this discrete data is often without order, when displaying this data, no value should be highlighted over another.\n",
    "\n",
    "- [Visualizing data: Mapping data onto aesthetics](https://clauswilke.com/dataviz/aesthetic-mapping.html)\n",
    "- [Matplotlib: Colors in the default property cycle](https://matplotlib.org/stable/gallery/color/color_cycle_default.html)\n",
    "- [Okabe, Ito; Color Universal Design](https://jfly.uni-koeln.de/color/)"
   ]
  },
  {
   "cell_type": "markdown",
   "id": "da857ead",
   "metadata": {},
   "source": [
    "## NMDB realtime data\n",
    "NMDB provides real-time data (updated twice per minute) from Neutron Monitors of the previous hour as an ASCII file at rt.nmdb.eu. The datafile contains the *timestamp*, *station* name, and the *countrate* (in counts per second) for every minute that the station has provided data. The data can be [read into a pandas dataframe](https://www.nmdb.eu/software/python/realtime/)"
   ]
  },
  {
   "cell_type": "code",
   "execution_count": null,
   "id": "f6b4a857",
   "metadata": {},
   "outputs": [],
   "source": [
    "import pandas as pd\n",
    "realtime = \"http://rt.nmdb.eu/realtime.txt\"  # NMDB realtime data is available here    \n",
    "columns = ['timestamp', 'station', 'countrate']  # list with column names\n",
    "rt = pd.read_table(realtime, comment=\"#\", sep=\";\", header=0, names=columns)\n",
    "\n",
    "rt"
   ]
  },
  {
   "cell_type": "code",
   "execution_count": null,
   "id": "9d35c2b0",
   "metadata": {},
   "outputs": [],
   "source": [
    "df = rt.copy() # work with a copy of the data\n",
    "df['timestamp'] = pd.to_datetime(df['timestamp'])  # convert str to datetime\n",
    "#df = df.astype({'station':'string'})\n",
    "df['countrate'] = pd.to_numeric(df['countrate'], errors='coerce')  # None -> NaN\n",
    "df.dropna(inplace=True)  # drop rows that contain NaN/None values\n",
    "\n",
    "df"
   ]
  },
  {
   "cell_type": "code",
   "execution_count": null,
   "id": "49a16833",
   "metadata": {},
   "outputs": [],
   "source": [
    "# create a pivot table with station names as column name\n",
    "data = df.pivot(index='timestamp', columns='station', values='countrate')\n",
    "\n",
    "# keep a list of the station short names\n",
    "station_short_name = data.columns.tolist()\n",
    "\n",
    "data"
   ]
  },
  {
   "cell_type": "code",
   "execution_count": null,
   "id": "1042627b",
   "metadata": {},
   "outputs": [],
   "source": [
    "# pivot table with max, mean, min for each station\n",
    "stats = df.pivot_table(index='station', values='countrate', aggfunc=('mean', 'max', 'min'))\n",
    "stats"
   ]
  },
  {
   "cell_type": "code",
   "execution_count": null,
   "id": "cf9f2c34",
   "metadata": {},
   "outputs": [],
   "source": [
    "# import libraries that we will be using for modifying our plots\n",
    "import matplotlib\n",
    "import matplotlib.pyplot as plt\n",
    "from cycler import cycler"
   ]
  },
  {
   "cell_type": "code",
   "execution_count": null,
   "id": "eea5f5c6",
   "metadata": {},
   "outputs": [],
   "source": [
    "# plot the data using the matplotlib default colours\n",
    "for idx, name in enumerate(station_short_name):\n",
    "    # print(idx,name)\n",
    "    data[name].plot(label=name)\n",
    "plt.legend(loc=\"upper right\")"
   ]
  },
  {
   "cell_type": "code",
   "execution_count": null,
   "id": "a26a27c0",
   "metadata": {},
   "outputs": [],
   "source": [
    "# what are the default colours?\n",
    "# https://matplotlib.org/stable/users/explain/colors/colors.html\n",
    "\n",
    "prop_cycle = plt.rcParams['axes.prop_cycle']\n",
    "default_colors = prop_cycle.by_key()['color']\n",
    "\n",
    "print(\"default:\")\n",
    "colors_hex = []\n",
    "for c in default_colors:\n",
    "  colors_hex.append(matplotlib.colors.to_hex(c))\n",
    "print(colors_hex)\n",
    "\n",
    "print(\"tab10:\")\n",
    "colors_hex = []\n",
    "for c in plt.cm.tab10.colors: \n",
    "  colors_hex.append(matplotlib.colors.to_hex(c))\n",
    "print(colors_hex)\n",
    "\n",
    "# tab10 are the default colors!\n",
    "# if the colormap has been changed, set the defaults like this:\n",
    "c = plt.get_cmap('tab10').colors\n",
    "plt.rcParams['axes.prop_cycle'] = cycler(color=c)\n",
    "for idx, name in enumerate(station_short_name):\n",
    "    if idx >0 and idx < 11: # plot only 10 stations (colors cycle!)\n",
    "        data[name].plot(label=name)\n",
    "plt.legend(loc=\"upper right\")"
   ]
  },
  {
   "cell_type": "code",
   "execution_count": null,
   "id": "29471d56",
   "metadata": {},
   "outputs": [],
   "source": [
    "# In matplotlib 2.0 the default colours where changed\n",
    "# lets use the traditional colours\n",
    "# https://matplotlib.org/stable/users/prev_whats_new/dflt_style_changes.html\n",
    "\n",
    "plt.rcParams['axes.prop_cycle'] = cycler(color='bgrcmyk')\n",
    "\n",
    "for idx, name in enumerate(station_short_name):\n",
    "    data[name].plot(label=name)\n",
    "plt.legend(loc=\"upper right\")"
   ]
  },
  {
   "cell_type": "code",
   "execution_count": null,
   "id": "cb7cb0f3",
   "metadata": {},
   "outputs": [],
   "source": [
    "# use a colormap with more colors\n",
    "c = plt.get_cmap('tab20c').colors\n",
    "plt.rcParams['axes.prop_cycle'] = cycler(color=c)\n",
    "\n",
    "fig = plt.figure(figsize=(12,9))\n",
    "ax = plt.subplot(111)\n",
    "\n",
    "for idx, name in enumerate(station_short_name):\n",
    "    if idx >0 and idx < 21: # plot \"only\" 20 stations\n",
    "      data[name].plot(label=name)\n",
    "\n",
    "# https://stackoverflow.com/questions/4700614/how-to-put-the-legend-outside-the-plot\n",
    "\n",
    "# Shrink current axis by 20%\n",
    "box = ax.get_position()\n",
    "ax.set_position([box.x0, box.y0, box.width * 0.8, box.height])\n",
    "\n",
    "# Put a legend to the right of the current axis\n",
    "ax.legend(loc='center left', bbox_to_anchor=(1, 0.5))\n",
    "plt.show()"
   ]
  },
  {
   "cell_type": "code",
   "execution_count": null,
   "id": "63f5232d",
   "metadata": {},
   "outputs": [],
   "source": [
    "fig = plt.figure(figsize=(12,9))\n",
    "ax = plt.subplot(111)\n",
    "\n",
    "for idx, name in enumerate(station_short_name):\n",
    "    if idx >0 and idx < 21: # plot \"only\" 20 stations\n",
    "      data[name].plot(label=name)\n",
    "\n",
    "# Put a legend to the right of the current axis\n",
    "ax.legend(loc='center left', bbox_to_anchor=(1, .5))\n",
    "plt.show()"
   ]
  },
  {
   "cell_type": "code",
   "execution_count": null,
   "id": "c5899e4a",
   "metadata": {},
   "outputs": [],
   "source": []
  }
 ],
 "metadata": {
  "kernelspec": {
   "display_name": "Python 3 (ipykernel)",
   "language": "python",
   "name": "python3"
  },
  "language_info": {
   "codemirror_mode": {
    "name": "ipython",
    "version": 3
   },
   "file_extension": ".py",
   "mimetype": "text/x-python",
   "name": "python",
   "nbconvert_exporter": "python",
   "pygments_lexer": "ipython3",
   "version": "3.11.2"
  }
 },
 "nbformat": 4,
 "nbformat_minor": 5
}
