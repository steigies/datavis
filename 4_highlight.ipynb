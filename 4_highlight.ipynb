{
 "cells": [
  {
   "cell_type": "markdown",
   "id": "6388682c",
   "metadata": {},
   "source": [
    "# Highlighting data\n",
    "Sometimes the standard colourmaps do not show enough detail of the data we study.\n",
    "The interesting features may be at the very high or low end of the values plotted, or in a small fraction in the middle range.\n",
    "Using specialised colourmaps that can be modified with an interactive tool allows us to gain more insight into our data.\n",
    "\n",
    "\"[ColorMoves](https://sciviscolor.org/colormoves/overview/) is an intuitive user interface that allows a user to build complex and data-driven colormaps via a drag-and-drop approach starting with a suite of predefined colormaps. The resultant colormap can be exported for use in other visualization applications.\"\n",
    "\n",
    "The ColorMoves [app](https://sciviscolor.org/color-moves-app/)\n",
    "provides several example [images](https://sciviscolor.org/colormoves/float-files/)\n",
    "to start exploring the many colourmaps in the app.\n",
    "\n",
    "To use your own data, you need to first get the\n",
    "[xml](https://sciviscolor.org/media/filer_public/75/bf/75bf9001-1b92-4476-99d6-a25d2452bfe2/https___sciviscolororg_wp-content_uploads_sites_14_2017_09_floatpng_pv44.xml)\n",
    "file and convert it to a colourmap to plot your own data with, using the scripts provided on the sciviscolor website:"
   ]
  },
  {
   "cell_type": "code",
   "execution_count": null,
   "id": "b76cd333",
   "metadata": {},
   "outputs": [],
   "source": [
    "# https://sciviscolor.org/colormoves/float-files/matlab-matplotlib-example/\n",
    "fname=\"FloatPNG_PV44.xml\"\n",
    "\n",
    "# check if the file exists before trying to load it:\n",
    "import os.path\n",
    "os.path.isfile(fname)"
   ]
  },
  {
   "cell_type": "code",
   "execution_count": null,
   "id": "1db31d97",
   "metadata": {},
   "outputs": [],
   "source": [
    "import cm_xml_to_matplotlib as cm\n",
    "\n",
    "# make the Matplotlib compatible colormap\n",
    "mycmap = cm.make_cmap(fname)\n",
    "\n",
    "# to use colormap:\n",
    "matplotlib.pyplot.imshow(your_image, cmap=matplotlib.pyplot.get_cmap(mycmap))"
   ]
  },
  {
   "cell_type": "code",
   "execution_count": null,
   "id": "0d2e4c81",
   "metadata": {},
   "outputs": [],
   "source": [
    "# output the MATLAB compatible matrix\n",
    "cm.cmap_matrix(mycmap)"
   ]
  },
  {
   "cell_type": "code",
   "execution_count": null,
   "id": "204cdacb",
   "metadata": {},
   "outputs": [],
   "source": [
    "# plot an 8 by 1 copy of the colormap\n",
    "cm.plot_cmap(mycmap)"
   ]
  },
  {
   "cell_type": "code",
   "execution_count": null,
   "id": "4e36acb5",
   "metadata": {},
   "outputs": [],
   "source": [
    "# plot your own data here..."
   ]
  }
 ],
 "metadata": {
  "kernelspec": {
   "display_name": "Python 3 (ipykernel)",
   "language": "python",
   "name": "python3"
  },
  "language_info": {
   "codemirror_mode": {
    "name": "ipython",
    "version": 3
   },
   "file_extension": ".py",
   "mimetype": "text/x-python",
   "name": "python",
   "nbconvert_exporter": "python",
   "pygments_lexer": "ipython3",
   "version": "3.11.2"
  }
 },
 "nbformat": 4,
 "nbformat_minor": 5
}
